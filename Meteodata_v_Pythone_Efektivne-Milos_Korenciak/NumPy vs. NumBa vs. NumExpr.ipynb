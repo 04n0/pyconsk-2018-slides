{
 "cells": [
  {
   "cell_type": "code",
   "execution_count": 1,
   "metadata": {
    "scrolled": true
   },
   "outputs": [
    {
     "name": "stdout",
     "output_type": "stream",
     "text": [
      "numpy adding:\n",
      "2.65 ms ± 444 µs per loop (mean ± std. dev. of 7 runs, 100 loops each)\n",
      "1.37 ms ± 146 µs per loop (mean ± std. dev. of 7 runs, 100 loops each)\n",
      "numexpr adding:\n",
      "The slowest run took 8.73 times longer than the fastest. This could mean that an intermediate result is being cached.\n",
      "1.09 ms ± 671 µs per loop (mean ± std. dev. of 7 runs, 1000 loops each)\n",
      "820 µs ± 180 µs per loop (mean ± std. dev. of 7 runs, 1000 loops each)\n",
      "numba adding:\n",
      "933 µs ± 90.8 µs per loop (mean ± std. dev. of 7 runs, 1 loop each)\n",
      "161 µs ± 45.6 µs per loop (mean ± std. dev. of 7 runs, 1 loop each)\n"
     ]
    }
   ],
   "source": [
    "import numpy as np\n",
    "from numba import jit\n",
    "import numexpr as ne\n",
    "\n",
    "a = np.random.uniform(size=(10,10,10,100))\n",
    "b = np.random.uniform(size=(10,10,10,100))\n",
    "print(\"numpy adding:\")\n",
    "%timeit 2 * a + 3 * b\n",
    "%timeit sum(2 * a + 3 * b)\n",
    "print(\"numexpr adding:\")\n",
    "%timeit ne.evaluate(\"2 * a + 3 * b\")\n",
    "%timeit ne.evaluate(\"sum(2 * a + 3 * b)\")\n",
    "print(\"numba adding:\")\n",
    "from numba import jit\n",
    "from numpy import arange\n",
    "\n",
    "# jit decorator tells Numba to compile this function.\n",
    "# The argument types will be inferred by Numba when function is called.\n",
    "@jit\n",
    "def sum2arr_res(a, b):\n",
    "    M, N, O, P = a.shape\n",
    "    result = 0.0\n",
    "    for i in range(M):\n",
    "        for j in range(N):\n",
    "            for k in range(O):\n",
    "                for l in range(P):\n",
    "                        result += 2 * a[i,j,k,l] + 3 * b[i,j,k,l]\n",
    "    return result\n",
    "\n",
    "@jit\n",
    "def sum2arr(a,b):\n",
    "    2 * a + 3 * b\n",
    "%timeit sum2arr(a, b)\n",
    "%timeit sum2arr_res(a, b)"
   ]
  }
 ],
 "metadata": {
  "kernelspec": {
   "display_name": "Python 3",
   "language": "python",
   "name": "python3"
  },
  "language_info": {
   "codemirror_mode": {
    "name": "ipython",
    "version": 3
   },
   "file_extension": ".py",
   "mimetype": "text/x-python",
   "name": "python",
   "nbconvert_exporter": "python",
   "pygments_lexer": "ipython3",
   "version": "3.6.3"
  }
 },
 "nbformat": 4,
 "nbformat_minor": 2
}
